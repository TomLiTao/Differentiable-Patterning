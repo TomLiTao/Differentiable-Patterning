{
 "cells": [
  {
   "cell_type": "code",
   "execution_count": 1,
   "metadata": {},
   "outputs": [
    {
     "name": "stderr",
     "output_type": "stream",
     "text": [
      "2024-07-24 11:19:51.783983: E external/local_xla/xla/stream_executor/cuda/cuda_dnn.cc:9261] Unable to register cuDNN factory: Attempting to register factory for plugin cuDNN when one has already been registered\n",
      "2024-07-24 11:19:51.784011: E external/local_xla/xla/stream_executor/cuda/cuda_fft.cc:607] Unable to register cuFFT factory: Attempting to register factory for plugin cuFFT when one has already been registered\n",
      "2024-07-24 11:19:51.785075: E external/local_xla/xla/stream_executor/cuda/cuda_blas.cc:1515] Unable to register cuBLAS factory: Attempting to register factory for plugin cuBLAS when one has already been registered\n",
      "2024-07-24 11:19:52.934494: W tensorflow/compiler/tf2tensorrt/utils/py_utils.cc:38] TF-TRT Warning: Could not find TensorRT\n"
     ]
    }
   ],
   "source": [
    "import sys\n",
    "sys.path.append('..')\n",
    "from NCA.trainer.NCA_trainer import NCA_Trainer\n",
    "from Common.utils import load_emoji_sequence\n",
    "from Common.eddie_indexer import index_to_data_nca_type\n",
    "from NCA.trainer.data_augmenter_nca import DataAugmenter\n",
    "from NCA.model.NCA_model import NCA\n",
    "from einops import rearrange\n",
    "import time\n",
    "import jax\n",
    "import jax.numpy as np\n",
    "import optax\n",
    "import matplotlib.pyplot as plt\n"
   ]
  },
  {
   "cell_type": "markdown",
   "metadata": {},
   "source": [
    "## Define all the variables"
   ]
  },
  {
   "cell_type": "code",
   "execution_count": 2,
   "metadata": {},
   "outputs": [],
   "source": [
    "CHANNELS = 16           # How many channels to use in the model\n",
    "TRAINING_STEPS = 100   # How many steps to train for\n",
    "DOWNSAMPLE = 4          # How much to downsample the image by\n",
    "NCA_STEPS = 32          # How many NCA steps between each image in the data sequence"
   ]
  },
  {
   "cell_type": "markdown",
   "metadata": {},
   "source": [
    "## Create a Neural Cellular Automata model\n",
    " - There are a few important parameters:\n",
    "    - `KERNEL_STR` defines what sort of spatial kernels we use\n",
    "    - `ACTIVATION` accepts any scalar function, acting as the neural network nonlinearity\n",
    "    - `PADDING` must be \"CIRCULAR\", \"REFLECT\" , \"REPLICATE\" or \"ZEROS\" - this controls how to handle the borders of the image\n",
    "    - `FIRE_RATE` must be between 0 and 1 - it is the probability of updating each pixel at each step"
   ]
  },
  {
   "cell_type": "code",
   "execution_count": 3,
   "metadata": {},
   "outputs": [],
   "source": [
    "model = NCA(N_CHANNELS=CHANNELS,\n",
    "            KERNEL_STR=[\"ID\",\"GRAD\",\"LAP\"],\n",
    "            ACTIVATION=jax.nn.relu,\n",
    "            PADDING=\"CIRCULAR\",\n",
    "            FIRE_RATE=0.5)\n"
   ]
  },
  {
   "cell_type": "markdown",
   "metadata": {},
   "source": [
    "## Load Data\n",
    " - Here we load an individual image from `demo_data/` , and create an initial condition of one seed pixel\n",
    " - `load_emoji_sequence` takes a list of strings like `[\"file_1\",\"file_2\",...]` and returns:\n",
    "   \n",
    "    an array of shape `[Batch, Timestep, Channels, Width, Height]`, where:\n",
    "      - `Batch` is currently 1 - this matters more later if we want to train to multiple images at the same time\n",
    "      - `Timestep` is the length of the input list\n",
    "      - `Channels` is typically 3 or 4 for colour channels\n",
    "      - `Width` and `Height` are for the image size\n",
    "\n",
    " -  We also use the `DataAugmenter` class, defined in `NCA.trainer.data_augmenter_nca.py`\n",
    "    - This has a few useful functions for modifying the data during training to produce better results\n",
    "    - This also adds extra hidden channels to an image\n",
    "    - By creating subclasses of `DataAugmenter` we can define what behaviour to apply to data during training\n",
    "         - In this example we just pad the data with extra zeros around the boundary"
   ]
  },
  {
   "cell_type": "code",
   "execution_count": 4,
   "metadata": {},
   "outputs": [
    {
     "name": "stdout",
     "output_type": "stream",
     "text": [
      "(1, 2, 4, 30, 30)\n",
      "(Batch, Time, Channels, Width, Height): (1, 3, 4, 30, 30)\n"
     ]
    },
    {
     "data": {
      "image/png": "[encoded data removed]",
      "text/plain": [
       "<Figure size 640x480 with 1 Axes>"
      ]
     },
     "metadata": {},
     "output_type": "display_data"
    }
   ],
   "source": [
    "data = load_emoji_sequence([\"crab.png\",\"crab.png\"],impath_emojis=\"demo_data/\",downsample=DOWNSAMPLE)\n",
    "\n",
    "\n",
    "# For the initial condition, take a small cropped square from the middle of the target image\n",
    "initial_condition = np.array(data[:,:1])\n",
    "print(data.shape)\n",
    "W = initial_condition.shape[-2]\n",
    "H = initial_condition.shape[-1]\n",
    "initial_condition = initial_condition.at[0,0,:,:W//2-2].set(0)\n",
    "initial_condition = initial_condition.at[0,0,:,W//2+1:].set(0)\n",
    "initial_condition = initial_condition.at[0,0,:,:,:H//2-2].set(0)\n",
    "initial_condition = initial_condition.at[0,0,:,:,H//2+1:].set(0)\n",
    "\n",
    "\n",
    "data = np.concatenate([initial_condition,data],axis=1) # Join initial condition and data along the time axis\n",
    "print(\"(Batch, Time, Channels, Width, Height): \"+str(data.shape))\n",
    "plt.imshow(rearrange(data,\"() T C W H -> W (T H) C\" )[...,:3])\n",
    "plt.show()\n",
    "\n",
    "\n",
    "class data_augmenter_subclass(DataAugmenter):\n",
    "    #Redefine how data is pre-processed before training\n",
    "    def data_init(self,SHARDING=None):\n",
    "        data = self.return_saved_data()\n",
    "        data = self.duplicate_batches(data, 1)\n",
    "        data = self.pad(data, 10) \t\t\n",
    "        self.save_data(data)\n",
    "        return None\n",
    "    "
   ]
  },
  {
   "cell_type": "markdown",
   "metadata": {},
   "source": [
    "## Define the trainer object\n",
    "- The `NCA_Trainer` takes as input the `model`, the `data` and a reference to the `DataAugmenter` class (or a custom subclass)\n",
    "    - It also takes a `model_filename` for saving the output\n",
    "- `NCA_Trainer` also logs a lot of training statistics using tensorboard, instructions to read that are below"
   ]
  },
  {
   "cell_type": "code",
   "execution_count": 5,
   "metadata": {},
   "outputs": [
    {
     "name": "stdout",
     "output_type": "stream",
     "text": [
      "Batches = 1\n",
      "Logging training to: logs/test_grow_crab/train\n",
      "Saving model to: demotest_grow_crab\n"
     ]
    }
   ],
   "source": [
    "trainer = NCA_Trainer(NCA_model=model,\n",
    "                      data = data,\n",
    "                      DATA_AUGMENTER=data_augmenter_subclass,\n",
    "                      model_filename=\"test_grow_crab\",\n",
    "                      directory=\"demo\")"
   ]
  },
  {
   "cell_type": "markdown",
   "metadata": {},
   "source": [
    "## Training\n",
    "- Run the following code cell first, then follow these instructions to view how the training is progressing\n",
    "\n",
    "### Evaluating training:\n",
    "- In the terminal, run the following command:\n",
    "\n",
    "`tensorboard --samples_per_plugin images=200 --logdir logs/test_grow_crab/train/`\n",
    "\n",
    "- Where `test_grow_crab` is the model filename we supplied when defining the `NCA_Trainer`\n",
    "\n",
    "- Then, open your browser and go to: `http://localhost:6006/`"
   ]
  },
  {
   "cell_type": "code",
   "execution_count": 6,
   "metadata": {},
   "outputs": [
    {
     "name": "stderr",
     "output_type": "stream",
     "text": [
      " 66%|██████▌   | 66/100 [01:47<00:49,  1.46s/it]"
     ]
    },
    {
     "name": "stdout",
     "output_type": "stream",
     "text": [
      "--- Model saved at 65 epochs with loss 0.098029815 ---\n"
     ]
    },
    {
     "name": "stderr",
     "output_type": "stream",
     "text": [
      " 68%|██████▊   | 68/100 [01:50<00:45,  1.43s/it]"
     ]
    },
    {
     "name": "stdout",
     "output_type": "stream",
     "text": [
      "--- Model saved at 67 epochs with loss 0.09769666 ---\n"
     ]
    },
    {
     "name": "stderr",
     "output_type": "stream",
     "text": [
      " 80%|████████  | 80/100 [02:07<00:28,  1.40s/it]"
     ]
    },
    {
     "name": "stdout",
     "output_type": "stream",
     "text": [
      "--- Model saved at 79 epochs with loss 0.097275466 ---\n"
     ]
    },
    {
     "name": "stderr",
     "output_type": "stream",
     "text": [
      " 81%|████████  | 81/100 [02:10<00:33,  1.78s/it]"
     ]
    },
    {
     "name": "stdout",
     "output_type": "stream",
     "text": [
      "--- Model saved at 80 epochs with loss 0.09620975 ---\n"
     ]
    },
    {
     "name": "stderr",
     "output_type": "stream",
     "text": [
      " 83%|████████▎ | 83/100 [02:13<00:26,  1.59s/it]"
     ]
    },
    {
     "name": "stdout",
     "output_type": "stream",
     "text": [
      "--- Model saved at 82 epochs with loss 0.095573954 ---\n"
     ]
    },
    {
     "name": "stderr",
     "output_type": "stream",
     "text": [
      " 88%|████████▊ | 88/100 [02:20<00:17,  1.42s/it]"
     ]
    },
    {
     "name": "stdout",
     "output_type": "stream",
     "text": [
      "--- Model saved at 87 epochs with loss 0.0953664 ---\n"
     ]
    },
    {
     "name": "stderr",
     "output_type": "stream",
     "text": [
      " 89%|████████▉ | 89/100 [02:21<00:15,  1.41s/it]"
     ]
    },
    {
     "name": "stdout",
     "output_type": "stream",
     "text": [
      "--- Model saved at 88 epochs with loss 0.09393556 ---\n"
     ]
    },
    {
     "name": "stderr",
     "output_type": "stream",
     "text": [
      " 97%|█████████▋| 97/100 [02:33<00:04,  1.42s/it]"
     ]
    },
    {
     "name": "stdout",
     "output_type": "stream",
     "text": [
      "--- Model saved at 96 epochs with loss 0.09326409 ---\n"
     ]
    },
    {
     "name": "stderr",
     "output_type": "stream",
     "text": [
      " 99%|█████████▉| 99/100 [02:36<00:01,  1.45s/it]"
     ]
    },
    {
     "name": "stdout",
     "output_type": "stream",
     "text": [
      "--- Model saved at 98 epochs with loss 0.09280935 ---\n"
     ]
    },
    {
     "name": "stderr",
     "output_type": "stream",
     "text": [
      "100%|██████████| 100/100 [02:37<00:00,  1.58s/it]\n"
     ]
    },
    {
     "name": "stdout",
     "output_type": "stream",
     "text": [
      "Training completed successfully\n",
      "Running final trained model for 128 steps\n"
     ]
    },
    {
     "name": "stderr",
     "output_type": "stream",
     "text": [
      "100%|██████████| 1/1 [00:02<00:00,  2.60s/it]\n"
     ]
    }
   ],
   "source": [
    "schedule = optax.exponential_decay(1e-3, transition_steps=TRAINING_STEPS, decay_rate=0.99)\n",
    "optimiser = optax.chain(optax.scale_by_param_block_norm(),\n",
    "                        optax.nadam(schedule))\n",
    "\n",
    "\n",
    "trainer.train(t=NCA_STEPS,iters=TRAINING_STEPS,LOOP_AUTODIFF=\"lax\",optimiser=optimiser)"
   ]
  },
  {
   "cell_type": "markdown",
   "metadata": {},
   "source": [
    "## Loading a trained NCA\n",
    "- Here we can access the trained model as `trainer.NCA_model`\n",
    "- We can also load NCA model weights with `model.load(\"demo/models/test_grow_crab.eqx\")`, replacing the filename string as needed\n",
    "    - Note that we have to define the NCA object first, with the correct number of channels and kernels"
   ]
  },
  {
   "cell_type": "code",
   "execution_count": 18,
   "metadata": {},
   "outputs": [],
   "source": [
    "model = trainer.NCA_model"
   ]
  },
  {
   "cell_type": "code",
   "execution_count": null,
   "metadata": {},
   "outputs": [],
   "source": [
    "model = NCA(N_CHANNELS=CHANNELS,\n",
    "            KERNEL_STR=[\"ID\",\"GRAD\",\"LAP\"],\n",
    "            ACTIVATION=jax.nn.relu,\n",
    "            PADDING=\"CIRCULAR\",\n",
    "            FIRE_RATE=0.5)\n",
    "\n",
    "model = model.load(\"demo/models/test_grow_crab.eqx\")"
   ]
  },
  {
   "cell_type": "markdown",
   "metadata": {},
   "source": [
    "## Testing trained NCA models\n",
    "- We can test it on the initial condition, given from `trainer.DATA_AUGMENTER.return_saved_data()[0][0]`"
   ]
  },
  {
   "cell_type": "code",
   "execution_count": 19,
   "metadata": {},
   "outputs": [
    {
     "name": "stderr",
     "output_type": "stream",
     "text": [
      "Clipping input data to the valid range for imshow with RGB data ([0..1] for floats or [0..255] for integers).\n"
     ]
    },
    {
     "data": {
      "image/png": "[encoded data removed]",
      "text/plain": [
       "<Figure size 640x480 with 1 Axes>"
      ]
     },
     "metadata": {},
     "output_type": "display_data"
    }
   ],
   "source": [
    "x0 = trainer.DATA_AUGMENTER.return_saved_data()[0][0]\n",
    "\n",
    "#print(x0.shape)\n",
    "#x0 = x0.at[:,:x0.shape[1]//2-1].set(0)\n",
    "\n",
    "trajectory = model.run(NCA_STEPS,x0)\n",
    "\n",
    "trajectory = rearrange(trajectory,\"T C W H-> T W H C\")\n",
    "plt.imshow(trajectory[-1,...,:3])\n",
    "plt.show()"
   ]
  },
  {
   "cell_type": "markdown",
   "metadata": {},
   "source": [
    "### Running a trained NCA on a damaged initial condition\n",
    "- We can take the initial 3*3 starting seed and remove part of it, or otherwise damage it, and then see what the NCA does\n",
    "\n"
   ]
  },
  {
   "cell_type": "code",
   "execution_count": 28,
   "metadata": {},
   "outputs": [
    {
     "data": {
      "image/png": "[encoded data removed]",
      "text/plain": [
       "<Figure size 640x480 with 1 Axes>"
      ]
     },
     "metadata": {},
     "output_type": "display_data"
    },
    {
     "name": "stderr",
     "output_type": "stream",
     "text": [
      "Clipping input data to the valid range for imshow with RGB data ([0..1] for floats or [0..255] for integers).\n"
     ]
    },
    {
     "data": {
      "image/png": "[encoded data removed]",
      "text/plain": [
       "<Figure size 640x480 with 1 Axes>"
      ]
     },
     "metadata": {},
     "output_type": "display_data"
    }
   ],
   "source": [
    "model = trainer.NCA_model\n",
    "x0 = trainer.DATA_AUGMENTER.return_saved_data()[0][0]\n",
    "\n",
    "#print(x0.shape)\n",
    "x0 = x0.at[:,:x0.shape[1]//2-1].set(0)\n",
    "x0 = x0.at[:,:,:x0.shape[2]//2-1].set(0)\n",
    "plt.imshow(rearrange(x0,\"C W H -> W H C\" )[...,:3])\n",
    "plt.show()\n",
    "trajectory = model.run(NCA_STEPS,x0)\n",
    "\n",
    "trajectory = rearrange(trajectory,\"T C W H-> T W H C\")\n",
    "plt.imshow(trajectory[-1,...,:3])\n",
    "plt.show()"
   ]
  },
  {
   "cell_type": "markdown",
   "metadata": {},
   "source": [
    "### Regenerating with a trained NCA\n",
    "- By starting at half of the target image, can we regrow the other half?"
   ]
  },
  {
   "cell_type": "code",
   "execution_count": 32,
   "metadata": {},
   "outputs": [
    {
     "data": {
      "image/png": "[encoded data removed]",
      "text/plain": [
       "<Figure size 640x480 with 1 Axes>"
      ]
     },
     "metadata": {},
     "output_type": "display_data"
    },
    {
     "name": "stderr",
     "output_type": "stream",
     "text": [
      "Clipping input data to the valid range for imshow with RGB data ([0..1] for floats or [0..255] for integers).\n"
     ]
    },
    {
     "data": {
      "image/png": "[encoded data removed]",
      "text/plain": [
       "<Figure size 640x480 with 1 Axes>"
      ]
     },
     "metadata": {},
     "output_type": "display_data"
    }
   ],
   "source": [
    "model = trainer.NCA_model\n",
    "x0 = trainer.DATA_AUGMENTER.return_saved_data()[0][1]\n",
    "\n",
    "#print(x0.shape)\n",
    "#x0 = x0.at[:,:x0.shape[1]//2-1].set(0)\n",
    "x0 = x0.at[:,:,:x0.shape[2]//2-1].set(0)\n",
    "plt.imshow(rearrange(x0,\"C W H -> W H C\" )[...,:3])\n",
    "plt.show()\n",
    "trajectory = model.run(NCA_STEPS,x0)\n",
    "\n",
    "trajectory = rearrange(trajectory,\"T C W H-> T W H C\")\n",
    "plt.imshow(trajectory[-1,...,:3])\n",
    "plt.show()"
   ]
  }
 ],
 "metadata": {
  "kernelspec": {
   "display_name": "Python 3",
   "language": "python",
   "name": "python3"
  },
  "language_info": {
   "codemirror_mode": {
    "name": "ipython",
    "version": 3
   },
   "file_extension": ".py",
   "mimetype": "text/x-python",
   "name": "python",
   "nbconvert_exporter": "python",
   "pygments_lexer": "ipython3",
   "version": "3.11.0"
  }
 },
 "nbformat": 4,
 "nbformat_minor": 2
}
