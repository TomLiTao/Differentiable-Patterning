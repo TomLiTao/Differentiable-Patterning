{
 "cells": [
  {
   "cell_type": "code",
   "execution_count": null,
   "metadata": {},
   "outputs": [],
   "source": [
    "import sys\n",
    "sys.path.append('..')\n",
    "from NCA.trainer.NCA_trainer import NCA_Trainer\n",
    "from Common.utils import load_emoji_sequence\n",
    "from Common.eddie_indexer import index_to_data_nca_type\n",
    "from NCA.trainer.data_augmenter_nca import DataAugmenter\n",
    "from NCA.model.NCA_model import NCA\n",
    "from einops import rearrange\n",
    "import time\n",
    "import jax\n",
    "import jax.numpy as np\n",
    "import optax\n",
    "import matplotlib.pyplot as plt\n"
   ]
  },
  {
   "cell_type": "markdown",
   "metadata": {},
   "source": [
    "## Define all the variables"
   ]
  },
  {
   "cell_type": "code",
   "execution_count": null,
   "metadata": {},
   "outputs": [],
   "source": [
    "CHANNELS = 16           # How many channels to use in the model\n",
    "TRAINING_STEPS = 1000   # How many steps to train for\n",
    "DOWNSAMPLE = 4          # How much to downsample the image by\n",
    "NCA_STEPS = 32          # How many NCA steps between each image in the data sequence"
   ]
  },
  {
   "cell_type": "markdown",
   "metadata": {},
   "source": [
    "## Create a Neural Cellular Automata model\n",
    " - There are a few important parameters:\n",
    "    - `KERNEL_STR` defines what sort of spatial kernels we use\n",
    "    - `ACTIVATION` accepts any scalar function, acting as the neural network nonlinearity\n",
    "    - `PADDING` must be \"CIRCULAR\", \"REFLECT\" , \"REPLICATE\" or \"ZEROS\" - this controls how to handle the borders of the image\n",
    "    - `FIRE_RATE` must be between 0 and 1 - it is the probability of updating each pixel at each step"
   ]
  },
  {
   "cell_type": "code",
   "execution_count": null,
   "metadata": {},
   "outputs": [],
   "source": [
    "model = NCA(N_CHANNELS=CHANNELS,\n",
    "            KERNEL_STR=[\"ID\",\"GRAD\",\"LAP\"],\n",
    "            ACTIVATION=jax.nn.relu,\n",
    "            PADDING=\"CIRCULAR\",\n",
    "            FIRE_RATE=0.5)\n"
   ]
  },
  {
   "cell_type": "markdown",
   "metadata": {},
   "source": [
    "## Load Data\n",
    " - Here we load an individual image from `demo_data/` , and create an initial condition of one seed pixel\n",
    " - `load_emoji_sequence` takes a list of strings like `[\"file_1\",\"file_2\",...]` and returns:\n",
    "   \n",
    "    an array of shape `[Batch, Timestep, Channels, Width, Height]`, where:\n",
    "      - `Batch` is currently 1 - this matters more later if we want to train to multiple images at the same time\n",
    "      - `Timestep` is the length of the input list\n",
    "      - `Channels` is typically 3 or 4 for colour channels\n",
    "      - `Width` and `Height` are for the image size\n",
    "\n",
    " -  We also use the `DataAugmenter` class, defined in `NCA.trainer.data_augmenter_nca.py`\n",
    "    - This has a few useful functions for modifying the data during training to produce better results\n",
    "    - This also adds extra hidden channels to an image\n",
    "    - By creating subclasses of `DataAugmenter` we can define what behaviour to apply to data during training\n",
    "         - In this example we just pad the data with extra zeros around the boundary"
   ]
  },
  {
   "cell_type": "code",
   "execution_count": null,
   "metadata": {},
   "outputs": [],
   "source": [
    "data = load_emoji_sequence([\"crab.png\"],impath_emojis=\"demo_data/\",downsample=DOWNSAMPLE)\n",
    "\n",
    "initial_condition = np.zeros(data[:,:1].shape)\n",
    "W = initial_condition.shape[-2]\n",
    "H = initial_condition.shape[-1]\n",
    "initial_condition = initial_condition.at[0,0,:,W//2,H//2].set(1)\n",
    "\n",
    "data = np.concatenate([initial_condition,data],axis=1) # Join initial condition and data along the time axis\n",
    "print(\"(Batch, Time, Channels, Width, Height): \"+str(data.shape))\n",
    "plt.imshow(rearrange(data,\"() T C W H -> W (T H) C\" )[...,:3])\n",
    "plt.show()\n",
    "\n",
    "\n",
    "class data_augmenter_subclass(DataAugmenter):\n",
    "    #Redefine how data is pre-processed before training\n",
    "    def data_init(self,SHARDING=None):\n",
    "        data = self.return_saved_data()\n",
    "        data = self.pad(data, 10) \t\t\n",
    "        self.save_data(data)\n",
    "        return None"
   ]
  },
  {
   "cell_type": "markdown",
   "metadata": {},
   "source": [
    "## Define the trainer object\n",
    "- The `NCA_Trainer` takes as input the `model`, the `data` and a reference to the `DataAugmenter` class (or a custom subclass)\n",
    "    - It also takes a `model_filename` for saving the output\n",
    "- `NCA_Trainer` also logs a lot of training statistics using tensorboard, instructions to read that are below"
   ]
  },
  {
   "cell_type": "code",
   "execution_count": null,
   "metadata": {},
   "outputs": [],
   "source": [
    "trainer = NCA_Trainer(NCA_model=model,\n",
    "                      data = data,\n",
    "                      DATA_AUGMENTER=data_augmenter_subclass,\n",
    "                      model_filename=\"test_grow_crab\")"
   ]
  },
  {
   "cell_type": "markdown",
   "metadata": {},
   "source": [
    "## Training\n",
    "- Run the following code cell first, then follow these instructions to view how the training is progressing\n",
    "\n",
    "### Evaluating training:\n",
    "- In the terminal, run the following command:\n",
    "\n",
    "`tensorboard --samples_per_plugin images=200 --logdir logs/test_grow_crab/train/`\n",
    "\n",
    "- Where `test_grow_crab` is the model filename we supplied when defining the `NCA_Trainer`\n",
    "\n",
    "- Then, open your browser and go to: `http://localhost:6006/`"
   ]
  },
  {
   "cell_type": "code",
   "execution_count": null,
   "metadata": {},
   "outputs": [],
   "source": [
    "trainer.train(t=NCA_STEPS,iters=TRAINING_STEPS)"
   ]
  }
 ],
 "metadata": {
  "kernelspec": {
   "display_name": "Python 3",
   "language": "python",
   "name": "python3"
  },
  "language_info": {
   "codemirror_mode": {
    "name": "ipython",
    "version": 3
   },
   "file_extension": ".py",
   "mimetype": "text/x-python",
   "name": "python",
   "nbconvert_exporter": "python",
   "pygments_lexer": "ipython3",
   "version": "3.11.0"
  }
 },
 "nbformat": 4,
 "nbformat_minor": 2
}
