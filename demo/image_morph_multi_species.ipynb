{
 "cells": [
  {
   "cell_type": "code",
   "execution_count": 19,
   "metadata": {},
   "outputs": [],
   "source": [
    "import sys\n",
    "sys.path.append('..')\n",
    "from NCA.trainer.NCA_trainer import NCA_Trainer\n",
    "from Common.utils import load_emoji_sequence\n",
    "from Common.eddie_indexer import index_to_data_nca_type\n",
    "from NCA.trainer.data_augmenter_nca import DataAugmenter\n",
    "from NCA.model.NCA_model import NCA\n",
    "from einops import rearrange\n",
    "import time\n",
    "import jax\n",
    "import jax.numpy as np\n",
    "import optax\n",
    "import matplotlib.pyplot as plt"
   ]
  },
  {
   "cell_type": "code",
   "execution_count": 20,
   "metadata": {},
   "outputs": [],
   "source": [
    "CHANNELS = 32           # How many channels to use in the model\n",
    "TRAINING_STEPS = 1000   # How many steps to train for\n",
    "DOWNSAMPLE = 4          # How much to downsample the image by\n",
    "NCA_STEPS = 48          # How many NCA steps between each image in the data sequence"
   ]
  },
  {
   "cell_type": "code",
   "execution_count": 21,
   "metadata": {},
   "outputs": [],
   "source": [
    "model = NCA(N_CHANNELS=CHANNELS,\n",
    "            KERNEL_STR=[\"ID\",\"GRAD\",\"LAP\"],\n",
    "            ACTIVATION=jax.nn.relu,\n",
    "            PADDING=\"CIRCULAR\",\n",
    "            FIRE_RATE=0.5)"
   ]
  },
  {
   "cell_type": "code",
   "execution_count": 22,
   "metadata": {},
   "outputs": [
    {
     "name": "stdout",
     "output_type": "stream",
     "text": [
      "(4, 1, 4, 30, 30)\n",
      "(Batch, Time, Channels, Width, Height): (4, 3, 4, 30, 30)\n"
     ]
    },
    {
     "data": {
      "image/png": "[encoded data removed]",
      "text/plain": [
       "<Figure size 640x480 with 1 Axes>"
      ]
     },
     "metadata": {},
     "output_type": "display_data"
    }
   ],
   "source": [
    "data = load_emoji_sequence([\"crab.png\",\"lizard.png\",\"microbe.png\",\"rooster.png\"],impath_emojis=\"demo_data/\",downsample=DOWNSAMPLE)\n",
    "\n",
    "\n",
    "# For the initial condition, take a small cropped square from the middle of the target image\n",
    "\n",
    "data = rearrange(data,\"B T C W H -> T B C W H\")\n",
    "print(data.shape)\n",
    "initial_condition = np.array(data)\n",
    "\n",
    "\n",
    "W = initial_condition.shape[-2]\n",
    "H = initial_condition.shape[-1]\n",
    "\n",
    "initial_condition = initial_condition.at[:,:,:,:W//2-2].set(0)\n",
    "initial_condition = initial_condition.at[:,:,:,W//2+1:].set(0)\n",
    "initial_condition = initial_condition.at[:,:,:,:,:H//2-2].set(0)\n",
    "initial_condition = initial_condition.at[:,:,:,:,H//2+1:].set(0)\n",
    "\n",
    "\n",
    "data = np.concatenate([initial_condition,data,data],axis=1) # Join initial condition and data along the time axis\n",
    "\n",
    "print(\"(Batch, Time, Channels, Width, Height): \"+str(data.shape))\n",
    "\n",
    "plt.imshow(rearrange(data,\"B T C W H -> (B W) (T H) C\" )[...,:3])\n",
    "plt.show()\n",
    "\n",
    "\n",
    "class data_augmenter_subclass(DataAugmenter):\n",
    "    #Redefine how data is pre-processed before training\n",
    "    def data_init(self,SHARDING=None):\n",
    "        data = self.return_saved_data()\n",
    "        data = self.duplicate_batches(data, 1)\n",
    "        data = self.pad(data, 10) \t\t\n",
    "        self.save_data(data)\n",
    "        return None\n",
    "    "
   ]
  },
  {
   "cell_type": "code",
   "execution_count": 25,
   "metadata": {},
   "outputs": [
    {
     "name": "stdout",
     "output_type": "stream",
     "text": [
      "Batches = 4\n",
      "Logging training to: logs/multi_species_stable/train\n",
      "Saving model to: demo/models/multi_species_stable\n"
     ]
    }
   ],
   "source": [
    "trainer = NCA_Trainer(NCA_model=model,\n",
    "                      data = data,\n",
    "                      DATA_AUGMENTER=data_augmenter_subclass,\n",
    "                      model_filename=\"multi_species_stable\",\n",
    "                      directory=\"demo/models/\")"
   ]
  },
  {
   "cell_type": "code",
   "execution_count": 26,
   "metadata": {},
   "outputs": [
    {
     "name": "stderr",
     "output_type": "stream",
     "text": [
      "  0%|          | 0/1000 [00:00<?, ?it/s]"
     ]
    }
   ],
   "source": [
    "schedule = optax.exponential_decay(1e-3, transition_steps=TRAINING_STEPS, decay_rate=0.99)\n",
    "optimiser = optax.chain(optax.scale_by_param_block_norm(),\n",
    "                        optax.nadam(schedule))\n",
    "\n",
    "\n",
    "trainer.train(t=NCA_STEPS,iters=TRAINING_STEPS,LOOP_AUTODIFF=\"lax\",optimiser=optimiser)"
   ]
  }
 ],
 "metadata": {
  "kernelspec": {
   "display_name": "Python 3",
   "language": "python",
   "name": "python3"
  },
  "language_info": {
   "codemirror_mode": {
    "name": "ipython",
    "version": 3
   },
   "file_extension": ".py",
   "mimetype": "text/x-python",
   "name": "python",
   "nbconvert_exporter": "python",
   "pygments_lexer": "ipython3",
   "version": "3.11.0"
  }
 },
 "nbformat": 4,
 "nbformat_minor": 2
}
